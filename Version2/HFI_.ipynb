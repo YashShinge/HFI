{
 "cells": [
  {
   "cell_type": "code",
   "execution_count": 1,
   "metadata": {},
   "outputs": [
    {
     "name": "stderr",
     "output_type": "stream",
     "text": [
      "[nltk_data] Downloading package stopwords to C:\\Users\\Yash\n",
      "[nltk_data]     Shinge\\AppData\\Roaming\\nltk_data...\n",
      "[nltk_data]   Package stopwords is already up-to-date!\n"
     ]
    }
   ],
   "source": [
    "import os\n",
    "import numpy as np\n",
    "import pandas as pd \n",
    "import re\n",
    "from collections import Counter\n",
    "\n",
    "import nltk\n",
    "nltk.download('stopwords')\n",
    "from nltk.corpus import stopwords\n",
    "from nltk.tokenize import word_tokenize\n",
    "\n",
    "# !pip install scispacy\n",
    "# !pip install https://s3-us-west-2.amazonaws.com/ai2-s2-scispacy/releases/v0.3.0/en_core_sci_lg-0.3.0.tar.gz\n",
    "import scispacy\n",
    "import spacy\n",
    "import en_core_sci_lg\n"
   ]
  },
  {
   "cell_type": "code",
   "execution_count": 2,
   "metadata": {},
   "outputs": [],
   "source": [
    "input_path = \"HFI_redo/input/\"\n",
    "filename = \"assignment_data.csv\"\n",
    "ex_file = \"example_output.csv\""
   ]
  },
  {
   "cell_type": "code",
   "execution_count": 3,
   "metadata": {},
   "outputs": [],
   "source": [
    "example_data = pd.read_csv(os.path.join(input_path, ex_file))"
   ]
  },
  {
   "cell_type": "code",
   "execution_count": 4,
   "metadata": {},
   "outputs": [],
   "source": [
    "data = pd.read_csv(os.path.join(input_path, filename))"
   ]
  },
  {
   "cell_type": "code",
   "execution_count": 5,
   "metadata": {},
   "outputs": [],
   "source": [
    "train = example_data.copy()\n",
    "test = data.copy()"
   ]
  },
  {
   "cell_type": "code",
   "execution_count": 6,
   "metadata": {},
   "outputs": [
    {
     "name": "stdout",
     "output_type": "stream",
     "text": [
      "Shape of example file: (10, 3)\n",
      "Shape of main file: (990, 3)\n"
     ]
    }
   ],
   "source": [
    "print(f'Shape of example file: {train.shape}')\n",
    "print(f'Shape of main file: {test.shape}')"
   ]
  },
  {
   "cell_type": "code",
   "execution_count": 7,
   "metadata": {},
   "outputs": [],
   "source": [
    "#error_check in main file\n",
    "index = test[(test['Adverse Reactions'] == 'ERROR1') | (test['Adverse Reactions'] == '') |\n",
    "                  (test['Adverse Reactions'] == 'Adverse Reactions')].index "
   ]
  },
  {
   "cell_type": "code",
   "execution_count": 8,
   "metadata": {},
   "outputs": [
    {
     "data": {
      "text/plain": [
       "Int64Index([953], dtype='int64')"
      ]
     },
     "execution_count": 8,
     "metadata": {},
     "output_type": "execute_result"
    }
   ],
   "source": [
    "index"
   ]
  },
  {
   "cell_type": "code",
   "execution_count": 9,
   "metadata": {},
   "outputs": [],
   "source": [
    "test.drop(index, inplace=True)\n",
    "test.reset_index(drop=True, inplace=True)"
   ]
  },
  {
   "cell_type": "code",
   "execution_count": 10,
   "metadata": {},
   "outputs": [
    {
     "name": "stdout",
     "output_type": "stream",
     "text": [
      "Shape of main file: (989, 3)\n"
     ]
    }
   ],
   "source": [
    "print(f'Shape of main file: {test.shape}')"
   ]
  },
  {
   "cell_type": "markdown",
   "metadata": {},
   "source": [
    "### Text Cleaning"
   ]
  },
  {
   "cell_type": "code",
   "execution_count": 11,
   "metadata": {},
   "outputs": [],
   "source": [
    "stop_words = set(stopwords.words('english')) "
   ]
  },
  {
   "cell_type": "code",
   "execution_count": 12,
   "metadata": {},
   "outputs": [],
   "source": [
    "def text_cleaner(text):\n",
    "    new_text = text.lower()\n",
    "    new_text = re.sub(r'\\([^)]*\\)', '', new_text)\n",
    "    new_text = re.sub('\"','', new_text)\n",
    "    new_text = re.sub(r\"'s\\b\",\"\",new_text)\n",
    "    new_text = re.sub(\"[^a-zA-Z]\", \" \", new_text) \n",
    "    new_text = re.sub(r'[_\"\\-;%()|,+&=*%.!?:#$@\\[\\]/]', '', new_text)\n",
    "   \n",
    "    # remove stopwords:\n",
    "    tokens = word_tokenize(new_text)\n",
    "    tokens = [word for word in tokens if word not in stop_words]\n",
    "    \n",
    "    # remove short words\n",
    "    long_words=[]\n",
    "    for i in tokens:\n",
    "        if len(i)>2:                                                \n",
    "            long_words.append(i)   \n",
    "    return (\" \".join(long_words)).strip()"
   ]
  },
  {
   "cell_type": "code",
   "execution_count": 13,
   "metadata": {},
   "outputs": [
    {
     "data": {
      "text/plain": [
       "['common adverse reactions including laboratory abnormalities leukopenia lymphopenia fatigue anemia neutropenia increased creatinine increased alanine aminotransferase increased glucose thrombocytopenia nausea decreased appetite musculoskeletal pain decreased albumin constipation dyspnea decreased sodium increased aspartate aminotransferase vomiting cough decreased magnesium diarrhea',\n",
       " 'adverse reactions adverse reactions isosorbide dinitrate generally dose related almost reactions result isosorbide dinitrate activity vasodilator headache may severe commonly reported side effect headache may recurrent daily dose especially higher doses transient episodes lightheadedness occasionally related blood pressure changes may also occur hypotension occurs infrequently patients may severe enough warrant discontinuation therapy syncope crescendo angina rebound hypertension reported uncommon extremely rarely ordinary doses organic nitrates caused methemoglobinemia normal seeming patients methemoglobinemia infrequent doses discussion diagnosis treatment deferred data available allow estimation frequency adverse reactions treatment isosorbide dinitrate tablets',\n",
       " 'common adverse reactions following use xiidra instillation site irritation dysgeusia decreased visual acuity',\n",
       " 'common adverse reactions constipation nausea sedation',\n",
       " 'common adverse reaction amlodipine edema occurred dose related manner adverse experiences dose related reported incidence fatigue nausea abdominal pain somnolence',\n",
       " 'adverse reactions following adverse reactions observed enough systematic collection data support estimate frequency gastrointestinal system reactions anorexia gastric irritation nausea vomiting cramping diarrhea constipation jaundice pancreatitis central nervous system reactions dizziness vertigo paresthesias headache xanthopsia hematologic reactions leukopenia agranulocytosis thrombocytopenia aplastic anemia dermatologic hypersensitivity reactions purpura photosensitivity rash urticaria necrotizing angiitis lyell syndrome cardio vascular reactions orthostatic hypotension may occur may aggravated alcohol barbiturates narcotics adverse reactions hyperglycemia glycosuria hyperuricemia muscle spasm weakness restlessness impotence whenever adverse reactions moderate severe chlorthalidone dosage reduced therapy withdrawn',\n",
       " 'common adverse reactions adult use headache diarrhea nausea abdominal pain vomiting flatulence dizziness arthralgia pediatric use uri headache fever diarrhea vomiting rash abdominal pain',\n",
       " 'commonly reported adverse reactions patients treated atorvastatin calcium placebo controlled trials regardless causality nasopharyngitis arthralgia diarrhea pain extremityand urinary tract infection',\n",
       " 'common adverse reactions leading discontinuation headache cough',\n",
       " 'common adverse reactions upper respiratory infection fever headache pharyngitis cough abdominal pain diarrhea otitis media influenza rhinorrhea sinusitis otitis']"
      ]
     },
     "execution_count": 13,
     "metadata": {},
     "output_type": "execute_result"
    }
   ],
   "source": [
    "cleaned_ex_text = []\n",
    "for t in train['Adverse Reactions']:\n",
    "    cleaned_ex_text.append(text_cleaner(t))\n",
    "cleaned_ex_text"
   ]
  },
  {
   "cell_type": "code",
   "execution_count": 14,
   "metadata": {},
   "outputs": [],
   "source": [
    "cleaned_text = []\n",
    "for t in test['Adverse Reactions']:\n",
    "    cleaned_text.append(text_cleaner(t))"
   ]
  },
  {
   "cell_type": "code",
   "execution_count": 15,
   "metadata": {
    "scrolled": false
   },
   "outputs": [
    {
     "data": {
      "text/plain": [
       "'following adverse events observed reported patients using propranolol cardiovascular bradycardia congestive heart failure intensification block hypotension paresthesia hands thrombocytopenic purpura arterial insufficiency usually raynaud type central nervous system light headedness mental depression manifested insomnia lassitude weakness fatigue catatonia visual disturbances hallucinations vivid dreams acute reversible syndrome characterized disorientation time place short term memory loss emotional lability slightly clouded sensorium decreased performance neuropsychometrics immediate release formulations fatigue lethargy vivid dreams appear dose related gastrointestinal nausea vomiting epigastric distress abdominal cramping diarrhea constipation mesenteric arterial thrombosis ischemic colitis allergic hypersensitivity reactions including anaphylactic anaphylactoid reactions pharyngitis agranulocytosis erythematous rash fever combined aching sore throat laryngospasm respiratory distress respiratory bronchospasm hematologic agranulocytosis nonthrombocytopenic purpura thrombocytopenic purpura autoimmune systemic lupus erythematosus skin mucous membranes stevens johnson syndrome toxic epidermal necrolysis dry eyes exfoliative dermatitis erythema multiforme urticaria alopecia sle like reactions psoriasiform rashes oculomucocutaneous syndrome involving skin serous membranes conjunctivae reported beta blocker associated propranolol genitourinary male impotence peyronie disease'"
      ]
     },
     "execution_count": 15,
     "metadata": {},
     "output_type": "execute_result"
    }
   ],
   "source": [
    "cleaned_text[0]"
   ]
  },
  {
   "cell_type": "code",
   "execution_count": 16,
   "metadata": {},
   "outputs": [],
   "source": [
    "train.loc[:, 'cleaned_adverse_reactions'] = cleaned_ex_text"
   ]
  },
  {
   "cell_type": "code",
   "execution_count": 17,
   "metadata": {},
   "outputs": [],
   "source": [
    "test.loc[:, 'cleaned_adverse_reactions'] = cleaned_text"
   ]
  },
  {
   "cell_type": "code",
   "execution_count": 18,
   "metadata": {},
   "outputs": [
    {
     "data": {
      "text/html": [
       "<div>\n",
       "<style scoped>\n",
       "    .dataframe tbody tr th:only-of-type {\n",
       "        vertical-align: middle;\n",
       "    }\n",
       "\n",
       "    .dataframe tbody tr th {\n",
       "        vertical-align: top;\n",
       "    }\n",
       "\n",
       "    .dataframe thead th {\n",
       "        text-align: right;\n",
       "    }\n",
       "</style>\n",
       "<table border=\"1\" class=\"dataframe\">\n",
       "  <thead>\n",
       "    <tr style=\"text-align: right;\">\n",
       "      <th></th>\n",
       "      <th>SetID</th>\n",
       "      <th>Adverse Reactions</th>\n",
       "      <th>Summary</th>\n",
       "      <th>cleaned_adverse_reactions</th>\n",
       "    </tr>\n",
       "  </thead>\n",
       "  <tbody>\n",
       "    <tr>\n",
       "      <th>0</th>\n",
       "      <td>632bb50c-3bcb-4c85-9056-fc33410550ae</td>\n",
       "      <td>The most common adverse reactions including la...</td>\n",
       "      <td>Leukopenia lymphopenia, fatigue, anemia, neutr...</td>\n",
       "      <td>common adverse reactions including laboratory ...</td>\n",
       "    </tr>\n",
       "    <tr>\n",
       "      <th>1</th>\n",
       "      <td>723d9f78-9d77-4575-af27-1aa117e6b8d7</td>\n",
       "      <td>ADVERSE REACTIONS Adverse reactions to isosorb...</td>\n",
       "      <td>Headache, lightheadedness in response to blood...</td>\n",
       "      <td>adverse reactions adverse reactions isosorbide...</td>\n",
       "    </tr>\n",
       "    <tr>\n",
       "      <th>2</th>\n",
       "      <td>8589d376-ac10-4ddb-9c53-2e0c8d5675c4</td>\n",
       "      <td>The most common adverse reactions (incidence 5...</td>\n",
       "      <td>Instillation-site irritation, dysegeusia, decr...</td>\n",
       "      <td>common adverse reactions following use xiidra ...</td>\n",
       "    </tr>\n",
       "    <tr>\n",
       "      <th>3</th>\n",
       "      <td>9087c92f-c753-4bd4-82e4-5aeee31e0ec3</td>\n",
       "      <td>Most common adverse reactions (&gt;&gt;10%): constip...</td>\n",
       "      <td>constipation, nausea, and sedation.</td>\n",
       "      <td>common adverse reactions constipation nausea s...</td>\n",
       "    </tr>\n",
       "    <tr>\n",
       "      <th>4</th>\n",
       "      <td>a500b8db-fed5-7a0e-e053-2995a90ab877</td>\n",
       "      <td>Most common adverse reaction to amlodipine is ...</td>\n",
       "      <td>Edema.  Fatigue, nausea, abdominal pain, and s...</td>\n",
       "      <td>common adverse reaction amlodipine edema occur...</td>\n",
       "    </tr>\n",
       "  </tbody>\n",
       "</table>\n",
       "</div>"
      ],
      "text/plain": [
       "                                  SetID  \\\n",
       "0  632bb50c-3bcb-4c85-9056-fc33410550ae   \n",
       "1  723d9f78-9d77-4575-af27-1aa117e6b8d7   \n",
       "2  8589d376-ac10-4ddb-9c53-2e0c8d5675c4   \n",
       "3  9087c92f-c753-4bd4-82e4-5aeee31e0ec3   \n",
       "4  a500b8db-fed5-7a0e-e053-2995a90ab877   \n",
       "\n",
       "                                   Adverse Reactions  \\\n",
       "0  The most common adverse reactions including la...   \n",
       "1  ADVERSE REACTIONS Adverse reactions to isosorb...   \n",
       "2  The most common adverse reactions (incidence 5...   \n",
       "3  Most common adverse reactions (>>10%): constip...   \n",
       "4  Most common adverse reaction to amlodipine is ...   \n",
       "\n",
       "                                             Summary  \\\n",
       "0  Leukopenia lymphopenia, fatigue, anemia, neutr...   \n",
       "1  Headache, lightheadedness in response to blood...   \n",
       "2  Instillation-site irritation, dysegeusia, decr...   \n",
       "3                constipation, nausea, and sedation.   \n",
       "4  Edema.  Fatigue, nausea, abdominal pain, and s...   \n",
       "\n",
       "                           cleaned_adverse_reactions  \n",
       "0  common adverse reactions including laboratory ...  \n",
       "1  adverse reactions adverse reactions isosorbide...  \n",
       "2  common adverse reactions following use xiidra ...  \n",
       "3  common adverse reactions constipation nausea s...  \n",
       "4  common adverse reaction amlodipine edema occur...  "
      ]
     },
     "execution_count": 18,
     "metadata": {},
     "output_type": "execute_result"
    }
   ],
   "source": [
    "train.head()"
   ]
  },
  {
   "cell_type": "code",
   "execution_count": 19,
   "metadata": {},
   "outputs": [
    {
     "data": {
      "text/html": [
       "<div>\n",
       "<style scoped>\n",
       "    .dataframe tbody tr th:only-of-type {\n",
       "        vertical-align: middle;\n",
       "    }\n",
       "\n",
       "    .dataframe tbody tr th {\n",
       "        vertical-align: top;\n",
       "    }\n",
       "\n",
       "    .dataframe thead th {\n",
       "        text-align: right;\n",
       "    }\n",
       "</style>\n",
       "<table border=\"1\" class=\"dataframe\">\n",
       "  <thead>\n",
       "    <tr style=\"text-align: right;\">\n",
       "      <th></th>\n",
       "      <th>SetID</th>\n",
       "      <th>Adverse Reactions</th>\n",
       "      <th>Summary</th>\n",
       "      <th>cleaned_adverse_reactions</th>\n",
       "    </tr>\n",
       "  </thead>\n",
       "  <tbody>\n",
       "    <tr>\n",
       "      <th>0</th>\n",
       "      <td>a834d1cf-72fc-93bf-e053-2995a90a6191</td>\n",
       "      <td>The following adverse events were observed and...</td>\n",
       "      <td>NaN</td>\n",
       "      <td>following adverse events observed reported pat...</td>\n",
       "    </tr>\n",
       "    <tr>\n",
       "      <th>1</th>\n",
       "      <td>a835b697-2beb-1ba8-e053-2995a90a470c</td>\n",
       "      <td>The following serious adverse reactions are de...</td>\n",
       "      <td>NaN</td>\n",
       "      <td>following serious adverse reactions described ...</td>\n",
       "    </tr>\n",
       "    <tr>\n",
       "      <th>2</th>\n",
       "      <td>a837f13e-fafc-0535-e053-2995a90a5070</td>\n",
       "      <td>ADVERSE REACTIONS Clinical Trials Experience I...</td>\n",
       "      <td>NaN</td>\n",
       "      <td>adverse reactions clinical trials experience c...</td>\n",
       "    </tr>\n",
       "    <tr>\n",
       "      <th>3</th>\n",
       "      <td>a838204b-9564-9aa6-e053-2a95a90af02f</td>\n",
       "      <td>ADVERSE REACTIONS Clinical Trials Experience I...</td>\n",
       "      <td>NaN</td>\n",
       "      <td>adverse reactions clinical trials experience c...</td>\n",
       "    </tr>\n",
       "    <tr>\n",
       "      <th>4</th>\n",
       "      <td>f265e6dd-f47e-4511-9468-282184bcd1b1</td>\n",
       "      <td>The most common adverse reactions leading to d...</td>\n",
       "      <td>NaN</td>\n",
       "      <td>common adverse reactions leading discontinuati...</td>\n",
       "    </tr>\n",
       "  </tbody>\n",
       "</table>\n",
       "</div>"
      ],
      "text/plain": [
       "                                  SetID  \\\n",
       "0  a834d1cf-72fc-93bf-e053-2995a90a6191   \n",
       "1  a835b697-2beb-1ba8-e053-2995a90a470c   \n",
       "2  a837f13e-fafc-0535-e053-2995a90a5070   \n",
       "3  a838204b-9564-9aa6-e053-2a95a90af02f   \n",
       "4  f265e6dd-f47e-4511-9468-282184bcd1b1   \n",
       "\n",
       "                                   Adverse Reactions  Summary  \\\n",
       "0  The following adverse events were observed and...      NaN   \n",
       "1  The following serious adverse reactions are de...      NaN   \n",
       "2  ADVERSE REACTIONS Clinical Trials Experience I...      NaN   \n",
       "3  ADVERSE REACTIONS Clinical Trials Experience I...      NaN   \n",
       "4  The most common adverse reactions leading to d...      NaN   \n",
       "\n",
       "                           cleaned_adverse_reactions  \n",
       "0  following adverse events observed reported pat...  \n",
       "1  following serious adverse reactions described ...  \n",
       "2  adverse reactions clinical trials experience c...  \n",
       "3  adverse reactions clinical trials experience c...  \n",
       "4  common adverse reactions leading discontinuati...  "
      ]
     },
     "execution_count": 19,
     "metadata": {},
     "output_type": "execute_result"
    }
   ],
   "source": [
    "test.head()"
   ]
  },
  {
   "cell_type": "markdown",
   "metadata": {},
   "source": [
    "----\n",
    "### Loading the model"
   ]
  },
  {
   "cell_type": "code",
   "execution_count": 20,
   "metadata": {},
   "outputs": [],
   "source": [
    "nlp = en_core_sci_lg.load()"
   ]
  },
  {
   "cell_type": "code",
   "execution_count": 21,
   "metadata": {},
   "outputs": [],
   "source": [
    "summ = []\n",
    "for i in range(len(train)):\n",
    "    docs_ex = nlp(train['cleaned_adverse_reactions'][i])\n",
    "    sent = []\n",
    "    for t in docs_ex.ents:\n",
    "        sent.append(str(t))\n",
    "    summ.append(', '.join(sent))"
   ]
  },
  {
   "cell_type": "code",
   "execution_count": 22,
   "metadata": {},
   "outputs": [],
   "source": [
    "train.loc[:, 'Summary_0'] = summ"
   ]
  },
  {
   "cell_type": "code",
   "execution_count": 23,
   "metadata": {},
   "outputs": [
    {
     "data": {
      "text/html": [
       "<div>\n",
       "<style scoped>\n",
       "    .dataframe tbody tr th:only-of-type {\n",
       "        vertical-align: middle;\n",
       "    }\n",
       "\n",
       "    .dataframe tbody tr th {\n",
       "        vertical-align: top;\n",
       "    }\n",
       "\n",
       "    .dataframe thead th {\n",
       "        text-align: right;\n",
       "    }\n",
       "</style>\n",
       "<table border=\"1\" class=\"dataframe\">\n",
       "  <thead>\n",
       "    <tr style=\"text-align: right;\">\n",
       "      <th></th>\n",
       "      <th>SetID</th>\n",
       "      <th>Adverse Reactions</th>\n",
       "      <th>Summary</th>\n",
       "      <th>cleaned_adverse_reactions</th>\n",
       "      <th>Summary_0</th>\n",
       "    </tr>\n",
       "  </thead>\n",
       "  <tbody>\n",
       "    <tr>\n",
       "      <th>0</th>\n",
       "      <td>632bb50c-3bcb-4c85-9056-fc33410550ae</td>\n",
       "      <td>The most common adverse reactions including la...</td>\n",
       "      <td>Leukopenia lymphopenia, fatigue, anemia, neutr...</td>\n",
       "      <td>common adverse reactions including laboratory ...</td>\n",
       "      <td>adverse reactions, laboratory abnormalities, l...</td>\n",
       "    </tr>\n",
       "    <tr>\n",
       "      <th>1</th>\n",
       "      <td>723d9f78-9d77-4575-af27-1aa117e6b8d7</td>\n",
       "      <td>ADVERSE REACTIONS Adverse reactions to isosorb...</td>\n",
       "      <td>Headache, lightheadedness in response to blood...</td>\n",
       "      <td>adverse reactions adverse reactions isosorbide...</td>\n",
       "      <td>adverse reactions, adverse reactions, isosorbi...</td>\n",
       "    </tr>\n",
       "    <tr>\n",
       "      <th>2</th>\n",
       "      <td>8589d376-ac10-4ddb-9c53-2e0c8d5675c4</td>\n",
       "      <td>The most common adverse reactions (incidence 5...</td>\n",
       "      <td>Instillation-site irritation, dysegeusia, decr...</td>\n",
       "      <td>common adverse reactions following use xiidra ...</td>\n",
       "      <td>adverse reactions, xiidra, instillation, site,...</td>\n",
       "    </tr>\n",
       "    <tr>\n",
       "      <th>3</th>\n",
       "      <td>9087c92f-c753-4bd4-82e4-5aeee31e0ec3</td>\n",
       "      <td>Most common adverse reactions (&gt;&gt;10%): constip...</td>\n",
       "      <td>constipation, nausea, and sedation.</td>\n",
       "      <td>common adverse reactions constipation nausea s...</td>\n",
       "      <td>adverse reactions, nausea sedation</td>\n",
       "    </tr>\n",
       "    <tr>\n",
       "      <th>4</th>\n",
       "      <td>a500b8db-fed5-7a0e-e053-2995a90ab877</td>\n",
       "      <td>Most common adverse reaction to amlodipine is ...</td>\n",
       "      <td>Edema.  Fatigue, nausea, abdominal pain, and s...</td>\n",
       "      <td>common adverse reaction amlodipine edema occur...</td>\n",
       "      <td>adverse reaction, amlodipine, dose, adverse ex...</td>\n",
       "    </tr>\n",
       "  </tbody>\n",
       "</table>\n",
       "</div>"
      ],
      "text/plain": [
       "                                  SetID  \\\n",
       "0  632bb50c-3bcb-4c85-9056-fc33410550ae   \n",
       "1  723d9f78-9d77-4575-af27-1aa117e6b8d7   \n",
       "2  8589d376-ac10-4ddb-9c53-2e0c8d5675c4   \n",
       "3  9087c92f-c753-4bd4-82e4-5aeee31e0ec3   \n",
       "4  a500b8db-fed5-7a0e-e053-2995a90ab877   \n",
       "\n",
       "                                   Adverse Reactions  \\\n",
       "0  The most common adverse reactions including la...   \n",
       "1  ADVERSE REACTIONS Adverse reactions to isosorb...   \n",
       "2  The most common adverse reactions (incidence 5...   \n",
       "3  Most common adverse reactions (>>10%): constip...   \n",
       "4  Most common adverse reaction to amlodipine is ...   \n",
       "\n",
       "                                             Summary  \\\n",
       "0  Leukopenia lymphopenia, fatigue, anemia, neutr...   \n",
       "1  Headache, lightheadedness in response to blood...   \n",
       "2  Instillation-site irritation, dysegeusia, decr...   \n",
       "3                constipation, nausea, and sedation.   \n",
       "4  Edema.  Fatigue, nausea, abdominal pain, and s...   \n",
       "\n",
       "                           cleaned_adverse_reactions  \\\n",
       "0  common adverse reactions including laboratory ...   \n",
       "1  adverse reactions adverse reactions isosorbide...   \n",
       "2  common adverse reactions following use xiidra ...   \n",
       "3  common adverse reactions constipation nausea s...   \n",
       "4  common adverse reaction amlodipine edema occur...   \n",
       "\n",
       "                                           Summary_0  \n",
       "0  adverse reactions, laboratory abnormalities, l...  \n",
       "1  adverse reactions, adverse reactions, isosorbi...  \n",
       "2  adverse reactions, xiidra, instillation, site,...  \n",
       "3                 adverse reactions, nausea sedation  \n",
       "4  adverse reaction, amlodipine, dose, adverse ex...  "
      ]
     },
     "execution_count": 23,
     "metadata": {},
     "output_type": "execute_result"
    }
   ],
   "source": [
    "train.head()"
   ]
  },
  {
   "cell_type": "code",
   "execution_count": 24,
   "metadata": {},
   "outputs": [
    {
     "data": {
      "text/html": [
       "<div>\n",
       "<style scoped>\n",
       "    .dataframe tbody tr th:only-of-type {\n",
       "        vertical-align: middle;\n",
       "    }\n",
       "\n",
       "    .dataframe tbody tr th {\n",
       "        vertical-align: top;\n",
       "    }\n",
       "\n",
       "    .dataframe thead th {\n",
       "        text-align: right;\n",
       "    }\n",
       "</style>\n",
       "<table border=\"1\" class=\"dataframe\">\n",
       "  <thead>\n",
       "    <tr style=\"text-align: right;\">\n",
       "      <th></th>\n",
       "      <th>SetID</th>\n",
       "      <th>Adverse Reactions</th>\n",
       "      <th>Summary</th>\n",
       "      <th>cleaned_adverse_reactions</th>\n",
       "    </tr>\n",
       "  </thead>\n",
       "  <tbody>\n",
       "    <tr>\n",
       "      <th>0</th>\n",
       "      <td>a834d1cf-72fc-93bf-e053-2995a90a6191</td>\n",
       "      <td>The following adverse events were observed and...</td>\n",
       "      <td>NaN</td>\n",
       "      <td>following adverse events observed reported pat...</td>\n",
       "    </tr>\n",
       "    <tr>\n",
       "      <th>1</th>\n",
       "      <td>a835b697-2beb-1ba8-e053-2995a90a470c</td>\n",
       "      <td>The following serious adverse reactions are de...</td>\n",
       "      <td>NaN</td>\n",
       "      <td>following serious adverse reactions described ...</td>\n",
       "    </tr>\n",
       "    <tr>\n",
       "      <th>2</th>\n",
       "      <td>a837f13e-fafc-0535-e053-2995a90a5070</td>\n",
       "      <td>ADVERSE REACTIONS Clinical Trials Experience I...</td>\n",
       "      <td>NaN</td>\n",
       "      <td>adverse reactions clinical trials experience c...</td>\n",
       "    </tr>\n",
       "    <tr>\n",
       "      <th>3</th>\n",
       "      <td>a838204b-9564-9aa6-e053-2a95a90af02f</td>\n",
       "      <td>ADVERSE REACTIONS Clinical Trials Experience I...</td>\n",
       "      <td>NaN</td>\n",
       "      <td>adverse reactions clinical trials experience c...</td>\n",
       "    </tr>\n",
       "    <tr>\n",
       "      <th>4</th>\n",
       "      <td>f265e6dd-f47e-4511-9468-282184bcd1b1</td>\n",
       "      <td>The most common adverse reactions leading to d...</td>\n",
       "      <td>NaN</td>\n",
       "      <td>common adverse reactions leading discontinuati...</td>\n",
       "    </tr>\n",
       "  </tbody>\n",
       "</table>\n",
       "</div>"
      ],
      "text/plain": [
       "                                  SetID  \\\n",
       "0  a834d1cf-72fc-93bf-e053-2995a90a6191   \n",
       "1  a835b697-2beb-1ba8-e053-2995a90a470c   \n",
       "2  a837f13e-fafc-0535-e053-2995a90a5070   \n",
       "3  a838204b-9564-9aa6-e053-2a95a90af02f   \n",
       "4  f265e6dd-f47e-4511-9468-282184bcd1b1   \n",
       "\n",
       "                                   Adverse Reactions  Summary  \\\n",
       "0  The following adverse events were observed and...      NaN   \n",
       "1  The following serious adverse reactions are de...      NaN   \n",
       "2  ADVERSE REACTIONS Clinical Trials Experience I...      NaN   \n",
       "3  ADVERSE REACTIONS Clinical Trials Experience I...      NaN   \n",
       "4  The most common adverse reactions leading to d...      NaN   \n",
       "\n",
       "                           cleaned_adverse_reactions  \n",
       "0  following adverse events observed reported pat...  \n",
       "1  following serious adverse reactions described ...  \n",
       "2  adverse reactions clinical trials experience c...  \n",
       "3  adverse reactions clinical trials experience c...  \n",
       "4  common adverse reactions leading discontinuati...  "
      ]
     },
     "execution_count": 24,
     "metadata": {},
     "output_type": "execute_result"
    }
   ],
   "source": [
    "test.head()"
   ]
  },
  {
   "cell_type": "code",
   "execution_count": 25,
   "metadata": {},
   "outputs": [],
   "source": [
    "summ_test = []\n",
    "for i in range(len(test)):\n",
    "    docs = nlp(test['cleaned_adverse_reactions'][i])\n",
    "    sent = []\n",
    "    for t in docs.ents:\n",
    "        sent.append(str(t))\n",
    "    summ_test.append(', '.join(sent))"
   ]
  },
  {
   "cell_type": "code",
   "execution_count": 26,
   "metadata": {},
   "outputs": [
    {
     "data": {
      "text/plain": [
       "'adverse events, patients, propranolol, cardiovascular bradycardia congestive heart failure, intensification, thrombocytopenic purpura arterial insufficiency, raynaud, type central nervous system, insomnia lassitude weakness, fatigue catatonia, visual disturbances, hallucinations, dreams, acute reversible syndrome, disorientation time, loss, emotional lability, sensorium, performance, neuropsychometrics, formulations, fatigue lethargy, dreams, dose, gastrointestinal nausea vomiting, epigastric distress, abdominal cramping diarrhea constipation, mesenteric arterial thrombosis, ischemic colitis, allergic hypersensitivity reactions, anaphylactic anaphylactoid reactions, pharyngitis agranulocytosis, erythematous rash, fever, aching sore throat, laryngospasm, respiratory distress, respiratory bronchospasm, hematologic agranulocytosis, nonthrombocytopenic purpura thrombocytopenic purpura autoimmune systemic lupus erythematosus, skin mucous membranes, johnson syndrome, toxic, epidermal necrolysis, dry eyes, exfoliative dermatitis erythema, multiforme urticaria, alopecia sle, reactions, psoriasiform rashes, oculomucocutaneous syndrome, skin serous membranes, conjunctivae, beta blocker, propranolol, genitourinary, male'"
      ]
     },
     "execution_count": 26,
     "metadata": {},
     "output_type": "execute_result"
    }
   ],
   "source": [
    "summ_test[0]"
   ]
  },
  {
   "cell_type": "markdown",
   "metadata": {},
   "source": [
    "----\n",
    "### Text cleaning 2"
   ]
  },
  {
   "cell_type": "code",
   "execution_count": 27,
   "metadata": {},
   "outputs": [],
   "source": [
    "single_string = ''.join(summ_test)"
   ]
  },
  {
   "cell_type": "code",
   "execution_count": 28,
   "metadata": {},
   "outputs": [],
   "source": [
    "vocab1 = Counter(single_string.split(', '))\n",
    "vocab2 = Counter(single_string.split())"
   ]
  },
  {
   "cell_type": "code",
   "execution_count": 29,
   "metadata": {
    "scrolled": false
   },
   "outputs": [
    {
     "name": "stdout",
     "output_type": "stream",
     "text": [
      "patients 2176\n",
      "adverse reactions 981\n",
      "increased 614\n",
      "treated 556\n",
      "adverse events 514\n",
      "incidence 454\n",
      "placebo 432\n",
      "treatment 412\n",
      "clinical trials 409\n",
      "abnormal 299\n",
      "decreased 263\n",
      "reactions 236\n",
      "dose 203\n",
      "events 200\n",
      "symptoms 197\n",
      "tablets 185\n",
      "relationship 181\n",
      "dry mouth 174\n",
      "frequency 169\n",
      "vision 166\n",
      "cases 164\n",
      "injection 162\n",
      "olanzapine 151\n",
      "infrequent 150\n",
      "doses 149\n",
      "hypotension 146\n",
      "drug 143\n",
      "administration 143\n",
      "therapy 139\n",
      "patient 134\n",
      "rare 134\n",
      "discontinuation 133\n",
      "increase 133\n",
      "pediatric 130\n",
      "day 130\n",
      "transient 130\n",
      "reports 116\n",
      "pioglitazone 113\n",
      "post 111\n",
      "nervous system 110\n",
      "metabolic 107\n",
      "dosage 103\n"
     ]
    }
   ],
   "source": [
    "vocab1 = {k:v for k,v in sorted(vocab1.items(), key=lambda x:-x[1])}\n",
    "high_freq1 = []\n",
    "for k,v in vocab1.items():\n",
    "    if v > 100:\n",
    "        print(k,v)\n",
    "        high_freq1.append(k)"
   ]
  },
  {
   "cell_type": "code",
   "execution_count": 30,
   "metadata": {},
   "outputs": [],
   "source": [
    "custom_high_freq1 = ['patients',\n",
    " 'adverse reactions',\n",
    " 'increased',\n",
    " 'treated',\n",
    " 'adverse events',\n",
    " 'incidence',\n",
    " 'treatment',\n",
    " 'clinical trials',\n",
    " 'abnormal',\n",
    " 'decreased',\n",
    " 'reactions',\n",
    " 'dose',\n",
    " 'events',\n",
    " 'symptoms',\n",
    " 'tablets',\n",
    " 'relationship',\n",
    " 'frequency',\n",
    " 'vision',\n",
    " 'cases',\n",
    " 'injection',\n",
    " 'olanzapine',\n",
    " 'infrequent',\n",
    " 'doses',\n",
    " 'drug',\n",
    " 'administration',\n",
    " 'therapy',\n",
    " 'patient',\n",
    " 'rare',\n",
    " 'discontinuation',\n",
    " 'increase',\n",
    " 'pediatric',\n",
    " 'day',\n",
    " 'transient',\n",
    " 'reports',\n",
    " 'pioglitazone',\n",
    " 'post',\n",
    " 'dosage']"
   ]
  },
  {
   "cell_type": "code",
   "execution_count": 31,
   "metadata": {
    "scrolled": false
   },
   "outputs": [
    {
     "name": "stdout",
     "output_type": "stream",
     "text": [
      "reactions, 2555\n",
      "patients, 2180\n",
      "adverse 1899\n",
      "clinical 767\n",
      "events, 764\n",
      "trials, 617\n",
      "increased, 614\n",
      "nausea 577\n",
      "system, 560\n",
      "treated, 556\n",
      "skin 496\n",
      "incidence, 455\n",
      "treatment, 452\n",
      "placebo, 445\n",
      "disorders, 397\n",
      "edema, 392\n",
      "therapy, 385\n",
      "disorder, 381\n",
      "pain, 365\n",
      "gastrointestinal 363\n",
      "rash, 355\n",
      "syndrome, 351\n",
      "respiratory 349\n",
      "dizziness 343\n",
      "drug 341\n",
      "abdominal 338\n",
      "pain 331\n",
      "diarrhea, 315\n",
      "abnormal, 303\n",
      "nervous 294\n",
      "headache 291\n",
      "symptoms, 289\n",
      "dose, 287\n",
      "tablets, 284\n",
      "dry 283\n",
      "reaction, 279\n",
      "vomiting, 270\n",
      "decreased, 264\n",
      "studies, 247\n",
      "failure, 238\n",
      "urinary 238\n",
      "depression, 233\n",
      "renal 225\n",
      "effects, 223\n",
      "cardiovascular 222\n",
      "liver 218\n",
      "constipation, 217\n",
      "infection, 216\n",
      "hypotension, 212\n",
      "allergic 208\n",
      "mouth, 200\n",
      "doses, 198\n",
      "administration, 197\n",
      "relationship, 194\n",
      "drug, 192\n",
      "vomiting 191\n",
      "frequency, 188\n",
      "hydrochloride, 185\n",
      "headache, 183\n",
      "controlled 180\n",
      "musculoskeletal 178\n",
      "thrombocytopenia, 178\n",
      "peripheral 177\n",
      "body 173\n",
      "injection, 173\n",
      "blood 171\n",
      "vision, 171\n",
      "heart 165\n",
      "cases, 165\n",
      "hypertension, 162\n",
      "fatigue 155\n",
      "discontinuation, 152\n",
      "olanzapine, 152\n",
      "serum 151\n",
      "dermatitis, 150\n",
      "infrequent, 150\n",
      "central 148\n",
      "reports, 147\n",
      "weight 142\n",
      "cardiac 142\n",
      "fever 138\n",
      "hepatic 136\n",
      "anemia, 135\n",
      "patient, 134\n",
      "rare, 134\n",
      "increase, 133\n",
      "loss, 132\n",
      "day, 132\n",
      "hematologic 130\n",
      "pediatric, 130\n",
      "transient, 130\n",
      "hypersensitivity 128\n",
      "acute 127\n",
      "discontinued, 124\n",
      "dosage, 124\n",
      "psychiatric 124\n",
      "postmarketing, 121\n",
      "pruritus, 116\n",
      "insomnia, 115\n",
      "pioglitazone, 115\n",
      "urticaria, 113\n",
      "confusion, 112\n",
      "hemorrhage, 111\n",
      "post, 111\n",
      "side 111\n",
      "diarrhea 110\n",
      "breast 110\n",
      "tract 109\n",
      "anemia 109\n",
      "event, 108\n",
      "experiences, 108\n",
      "function, 108\n",
      "study, 108\n",
      "johnson 107\n",
      "somnolence 107\n",
      "group, 107\n",
      "metabolic, 107\n",
      "anaphylactic 106\n",
      "pulmonary 106\n",
      "oral 106\n",
      "seizures, 105\n",
      "anxiety 105\n",
      "myocardial 105\n",
      "taste 102\n",
      "hemolytic 102\n",
      "appetite 102\n",
      "placebo 101\n",
      "dysfunction, 101\n",
      "abnormalities, 101\n"
     ]
    }
   ],
   "source": [
    "vocab2 = {k:v for k,v in sorted(vocab2.items(), key=lambda x:-x[1])}\n",
    "high_freq2 = []\n",
    "for k,v in vocab2.items():\n",
    "    if v > 100:\n",
    "        print(k,v)\n",
    "        high_freq2.append(k)"
   ]
  },
  {
   "cell_type": "code",
   "execution_count": 32,
   "metadata": {},
   "outputs": [],
   "source": [
    "custom_high_freq2 = ['adverse', 'reactions,', 'patients,','clinical', 'events,', 'trials,', 'increased,', 'treated,',\n",
    " 'incidence,', 'treatment,', 'therapy,', 'disorder,', 'dose,', 'symptoms,', 'tablets,', 'reaction,', 'decreased,', 'studies,', 'failure,',\n",
    " 'depression,', 'effects,', 'administration,', 'doses,', 'relationship,', 'drug,', 'frequency,', 'hydrochloride,', 'controlled',\n",
    " 'injection,', 'cases,', 'olanzapine,', 'discontinuation,', 'serum', 'infrequent,', 'central', 'reports,', 'weight', 'loss,',\n",
    " 'patient,', 'rare,', 'increase,', 'pediatric,', 'day,', 'transient,', 'discontinued,', 'propranolol,', 'dosage,', 'postmarketing,',\n",
    " 'function,', 'pioglitazone,',  'confusion,', 'side', 'adults,', 'male', 'event,', 'experiences,', 'study,', 'johnson', 'somnolence', 'group,',\n",
    " 'appetite', 'elevated,', 'serious,', 'warnings', 'precautions', 'section,', 'labeling,', 'data']"
   ]
  },
  {
   "cell_type": "code",
   "execution_count": 33,
   "metadata": {},
   "outputs": [],
   "source": [
    "custom_stop_words = set(custom_high_freq1 + custom_high_freq2)"
   ]
  },
  {
   "cell_type": "code",
   "execution_count": 34,
   "metadata": {},
   "outputs": [],
   "source": [
    "def post_cleaner(text):\n",
    "    new_text = text.lower()\n",
    "    tokens = [word for word in new_text.split() if word not in custom_stop_words]\n",
    "\n",
    "    return (\" \".join(tokens)).strip()"
   ]
  },
  {
   "cell_type": "code",
   "execution_count": 35,
   "metadata": {},
   "outputs": [],
   "source": [
    "clean_summ = []\n",
    "for i in summ_test:\n",
    "    clean_summ.append(post_cleaner(i))"
   ]
  },
  {
   "cell_type": "code",
   "execution_count": 36,
   "metadata": {
    "scrolled": false
   },
   "outputs": [
    {
     "data": {
      "text/plain": [
       "989"
      ]
     },
     "execution_count": 36,
     "metadata": {},
     "output_type": "execute_result"
    }
   ],
   "source": [
    "len(clean_summ)"
   ]
  },
  {
   "cell_type": "markdown",
   "metadata": {},
   "source": [
    "----\n",
    "#### Saving the output"
   ]
  },
  {
   "cell_type": "code",
   "execution_count": 37,
   "metadata": {},
   "outputs": [],
   "source": [
    "test['Summary'] = clean_summ"
   ]
  },
  {
   "cell_type": "code",
   "execution_count": 38,
   "metadata": {},
   "outputs": [],
   "source": [
    "test.drop('cleaned_adverse_reactions', axis=1, inplace=True)"
   ]
  },
  {
   "cell_type": "code",
   "execution_count": 39,
   "metadata": {},
   "outputs": [],
   "source": [
    "test.to_csv('HFI_redo/output/submission_11_10.csv', index=False)"
   ]
  }
 ],
 "metadata": {
  "kernelspec": {
   "display_name": "Python 3",
   "language": "python",
   "name": "python3"
  },
  "language_info": {
   "codemirror_mode": {
    "name": "ipython",
    "version": 3
   },
   "file_extension": ".py",
   "mimetype": "text/x-python",
   "name": "python",
   "nbconvert_exporter": "python",
   "pygments_lexer": "ipython3",
   "version": "3.8.3"
  }
 },
 "nbformat": 4,
 "nbformat_minor": 4
}
